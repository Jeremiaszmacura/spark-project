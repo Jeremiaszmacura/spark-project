{
 "cells": [
  {
   "cell_type": "code",
   "execution_count": 1,
   "metadata": {},
   "outputs": [],
   "source": [
    "import pyspark\n",
    "import pandas as pd"
   ]
  },
  {
   "attachments": {},
   "cell_type": "markdown",
   "metadata": {},
   "source": [
    "## Prepare work env\n",
    "\n",
    "### How to install bigdatasetup (spark, hadoop, jdk)\n",
    "https://www.youtube.com/watch?v=LrpxfCxmMeo\n",
    "\n",
    "jdk 11.0.14 (https://www.oracle.com/java/technologies/javase/jdk11-archive-downloads.html)\n",
    "\n",
    "spark 3.2.3 (https://www.apache.org/dyn/closer.lua/spark/spark-3.2.3/spark-3.2.3-bin-hadoop2.7.tgz)\n",
    "\n",
    "hadoop 2.7.1 - winutils.exe (https://github.com/steveloughran/winutils/tree/master/hadoop-2.7.1/bin)\n",
    "\n",
    "### PySpark tutorial\n",
    "https://www.youtube.com/watch?v=_C8kWso4ne4&t=2268s\n",
    "\n",
    "### Install requirements.txt\n",
    "pip install -r requirements.txt\n",
    "\n",
    "### Setup Env Variables (Windows)\n",
    "* HADOOP_HOME = <C:\\work_space\\bigdataseetup\\hadoop>\n",
    "* JAVA_HOME = <C:\\Program Files\\Java\\jdk-11.0.14>\n",
    "* SPARK_HOME = <C:\\work_space\\bigdataseetup\\spark>\n",
    "\n",
    "#### Add to PATH env variable\n",
    "* %JAVA_HOME%\\bin\n",
    "* %HADOOP_HOME%\\bin\n",
    "* %SPARK_HOME%\\bin"
   ]
  },
  {
   "attachments": {},
   "cell_type": "markdown",
   "metadata": {},
   "source": [
    "## Init PySpark session"
   ]
  },
  {
   "cell_type": "code",
   "execution_count": 4,
   "metadata": {},
   "outputs": [],
   "source": [
    "from pyspark.sql import SparkSession\n",
    "\n",
    "spark = SparkSession.builder.appName('projekt2').getOrCreate()"
   ]
  },
  {
   "attachments": {},
   "cell_type": "markdown",
   "metadata": {},
   "source": [
    "## Read data from csv file"
   ]
  },
  {
   "cell_type": "code",
   "execution_count": 5,
   "metadata": {},
   "outputs": [],
   "source": [
    "df_pyspark = spark.read.option('header', 'true').csv('Data.csv')\n",
    "df_pyspark.show()"
   ]
  },
  {
   "cell_type": "markdown",
   "metadata": {},
   "source": []
  }
 ],
 "metadata": {
  "kernelspec": {
   "display_name": "Python 3",
   "language": "python",
   "name": "python3"
  },
  "language_info": {
   "codemirror_mode": {
    "name": "ipython",
    "version": 3
   },
   "file_extension": ".py",
   "mimetype": "text/x-python",
   "name": "python",
   "nbconvert_exporter": "python",
   "pygments_lexer": "ipython3",
   "version": "3.11.1"
  },
  "orig_nbformat": 4,
  "vscode": {
   "interpreter": {
    "hash": "5238573367df39f7286bb46f9ff5f08f63a01a80960060ce41e3c79b190280fa"
   }
  }
 },
 "nbformat": 4,
 "nbformat_minor": 2
}
