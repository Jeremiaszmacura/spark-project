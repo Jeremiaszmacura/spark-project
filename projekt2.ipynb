{
 "cells": [
  {
   "attachments": {},
   "cell_type": "markdown",
   "metadata": {},
   "source": [
    "## Prepare work env\n",
    "\n",
    "### How to install bigdatasetup (spark, hadoop, jdk)\n",
    "https://www.youtube.com/watch?v=LrpxfCxmMeo\n",
    "\n",
    "jdk 11.0.14 (https://www.oracle.com/java/technologies/javase/jdk11-archive-downloads.html)\n",
    "\n",
    "spark 3.2.3 (https://www.apache.org/dyn/closer.lua/spark/spark-3.2.3/spark-3.2.3-bin-hadoop2.7.tgz)\n",
    "\n",
    "hadoop 2.7.1 - winutils.exe (https://github.com/steveloughran/winutils/tree/master/hadoop-2.7.1/bin)\n",
    "\n",
    "### PySpark tutorial\n",
    "https://www.youtube.com/watch?v=_C8kWso4ne4&t=2268s\n",
    "\n",
    "### Install requirements.txt\n",
    "pip install -r requirements.txt\n",
    "\n",
    "### Setup Env Variables (Windows)\n",
    "* HADOOP_HOME = <C:\\work_space\\bigdataseetup\\hadoop>\n",
    "* JAVA_HOME = <C:\\Program Files\\Java\\jdk-11.0.14>\n",
    "* SPARK_HOME = <C:\\work_space\\bigdataseetup\\spark>\n",
    "\n",
    "#### Add to PATH env variable\n",
    "* %JAVA_HOME%\\bin\n",
    "* %HADOOP_HOME%\\bin\n",
    "* %SPARK_HOME%\\bin"
   ]
  },
  {
   "cell_type": "code",
   "execution_count": 6,
   "metadata": {},
   "outputs": [],
   "source": [
    "import pyspark\n",
    "import pandas as pd"
   ]
  },
  {
   "attachments": {},
   "cell_type": "markdown",
   "metadata": {},
   "source": [
    "## Init PySpark session"
   ]
  },
  {
   "cell_type": "code",
   "execution_count": 7,
   "metadata": {},
   "outputs": [],
   "source": [
    "from pyspark.sql import SparkSession\n",
    "\n",
    "spark = SparkSession.builder.appName('projekt2').getOrCreate()"
   ]
  },
  {
   "attachments": {},
   "cell_type": "markdown",
   "metadata": {},
   "source": [
    "## Read data from csv file"
   ]
  },
  {
   "cell_type": "code",
   "execution_count": 8,
   "metadata": {},
   "outputs": [
    {
     "name": "stdout",
     "output_type": "stream",
     "text": [
      "+-----------------------------------------------------------------------------------+------+-----+----+---------+\n",
      "|origin                                                                             |height|width|mode|nChannels|\n",
      "+-----------------------------------------------------------------------------------+------+-----+----+---------+\n",
      "|file:///c:/work_space/studies/MADZD/spark-project/test_animals/PetImages/Cat/23.jpg|257   |334  |16  |3        |\n",
      "|file:///c:/work_space/studies/MADZD/spark-project/test_animals/PetImages/Cat/46.jpg|434   |400  |16  |3        |\n",
      "|file:///c:/work_space/studies/MADZD/spark-project/test_animals/PetImages/Cat/59.jpg|331   |465  |16  |3        |\n",
      "|file:///c:/work_space/studies/MADZD/spark-project/test_animals/PetImages/Cat/27.jpg|480   |370  |16  |3        |\n",
      "|file:///c:/work_space/studies/MADZD/spark-project/test_animals/PetImages/Cat/47.jpg|214   |259  |16  |3        |\n",
      "+-----------------------------------------------------------------------------------+------+-----+----+---------+\n",
      "only showing top 5 rows\n",
      "\n"
     ]
    }
   ],
   "source": [
    "cat_images_dir = \"./test_animals/PetImages/Cat/\"\n",
    "dog_images_dir = \"./test_animals/PetImages/Dog/\"\n",
    "\n",
    "cat_image_df = spark.read.format(\"image\").load(cat_images_dir).filter(\"image.nChannels > 2 AND image.height < 1000\")\n",
    "dog_image_df = spark.read.format(\"image\").load(dog_images_dir).filter(\"image.nChannels > 2 AND image.height < 1000\")\n",
    "\n",
    "cat_image_df.select(\"image.origin\", \"image.height\", \"image.width\", \"image.mode\", \"image.nChannels\").show(5, truncate=False)"
   ]
  },
  {
   "cell_type": "code",
   "execution_count": 9,
   "metadata": {},
   "outputs": [
    {
     "name": "stdout",
     "output_type": "stream",
     "text": [
      "66\n"
     ]
    },
    {
     "data": {
      "text/plain": [
       "('file:///c:/work_space/studies/MADZD/spark-project/test_animals/PetImages/Cat/46.jpg',\n",
       " 16,\n",
       " 3)"
      ]
     },
     "execution_count": 9,
     "metadata": {},
     "output_type": "execute_result"
    }
   ],
   "source": [
    "spark_single_img = cat_image_df.select(\"image\").collect()[1]\n",
    "print(len( cat_image_df.select(\"image\").collect()))\n",
    "(spark_single_img.image.origin, spark_single_img.image.mode, spark_single_img.image.nChannels )"
   ]
  },
  {
   "cell_type": "code",
   "execution_count": 10,
   "metadata": {},
   "outputs": [],
   "source": [
    "from PIL import Image, ImageDraw\n",
    "\n",
    "mode = 'RGBA' if (spark_single_img.image.nChannels == 4) else 'RGB' \n",
    "Image.frombytes(mode=mode, data=bytes(spark_single_img.image.data), size=[spark_single_img.image.width,spark_single_img.image.height]).show()"
   ]
  },
  {
   "cell_type": "code",
   "execution_count": 11,
   "metadata": {},
   "outputs": [
    {
     "ename": "NameError",
     "evalue": "name 'np' is not defined",
     "output_type": "error",
     "traceback": [
      "\u001b[1;31m---------------------------------------------------------------------------\u001b[0m",
      "\u001b[1;31mNameError\u001b[0m                                 Traceback (most recent call last)",
      "\u001b[1;32m~\\AppData\\Local\\Temp\\ipykernel_8220\\547447265.py\u001b[0m in \u001b[0;36m<module>\u001b[1;34m\u001b[0m\n\u001b[0;32m      5\u001b[0m \u001b[0mimg\u001b[0m \u001b[1;33m=\u001b[0m \u001b[0mImage\u001b[0m\u001b[1;33m.\u001b[0m\u001b[0mfrombytes\u001b[0m\u001b[1;33m(\u001b[0m\u001b[0mmode\u001b[0m\u001b[1;33m=\u001b[0m\u001b[0mmode\u001b[0m\u001b[1;33m,\u001b[0m \u001b[0mdata\u001b[0m\u001b[1;33m=\u001b[0m\u001b[0mbytes\u001b[0m\u001b[1;33m(\u001b[0m\u001b[0mspark_single_img\u001b[0m\u001b[1;33m.\u001b[0m\u001b[0mimage\u001b[0m\u001b[1;33m.\u001b[0m\u001b[0mdata\u001b[0m\u001b[1;33m)\u001b[0m\u001b[1;33m,\u001b[0m \u001b[0msize\u001b[0m\u001b[1;33m=\u001b[0m\u001b[1;33m[\u001b[0m\u001b[0mspark_single_img\u001b[0m\u001b[1;33m.\u001b[0m\u001b[0mimage\u001b[0m\u001b[1;33m.\u001b[0m\u001b[0mwidth\u001b[0m\u001b[1;33m,\u001b[0m\u001b[0mspark_single_img\u001b[0m\u001b[1;33m.\u001b[0m\u001b[0mimage\u001b[0m\u001b[1;33m.\u001b[0m\u001b[0mheight\u001b[0m\u001b[1;33m]\u001b[0m\u001b[1;33m)\u001b[0m\u001b[1;33m\u001b[0m\u001b[0m\n\u001b[0;32m      6\u001b[0m \u001b[1;33m\u001b[0m\u001b[0m\n\u001b[1;32m----> 7\u001b[1;33m \u001b[0mconverted_img_array\u001b[0m \u001b[1;33m=\u001b[0m \u001b[0mconvert_bgr_array_to_rgb_array\u001b[0m\u001b[1;33m(\u001b[0m\u001b[0mnp\u001b[0m\u001b[1;33m.\u001b[0m\u001b[0masarray\u001b[0m\u001b[1;33m(\u001b[0m\u001b[0mimg\u001b[0m\u001b[1;33m)\u001b[0m\u001b[1;33m)\u001b[0m\u001b[1;33m\u001b[0m\u001b[0m\n\u001b[0m\u001b[0;32m      8\u001b[0m \u001b[0mImage\u001b[0m\u001b[1;33m.\u001b[0m\u001b[0mfromarray\u001b[0m\u001b[1;33m(\u001b[0m\u001b[0mconverted_img_array\u001b[0m\u001b[1;33m)\u001b[0m\u001b[1;33m.\u001b[0m\u001b[0mshow\u001b[0m\u001b[1;33m(\u001b[0m\u001b[1;33m)\u001b[0m\u001b[1;33m\u001b[0m\u001b[0m\n",
      "\u001b[1;31mNameError\u001b[0m: name 'np' is not defined"
     ]
    }
   ],
   "source": [
    "import numpy as np\n",
    "\n",
    "def convert_bgr_array_to_rgb_array(img_array):\n",
    "    B, G, R = img_array.T\n",
    "    return np.array((R, G, B)).T\n",
    "\n",
    "img = Image.frombytes(mode=mode, data=bytes(spark_single_img.image.data), size=[spark_single_img.image.width,spark_single_img.image.height])\n",
    "\n",
    "converted_img_array = convert_bgr_array_to_rgb_array(np.asarray(img))\n",
    "Image.fromarray(converted_img_array).show()"
   ]
  },
  {
   "cell_type": "markdown",
   "metadata": {},
   "source": []
  }
 ],
 "metadata": {
  "kernelspec": {
   "display_name": "venv",
   "language": "python",
   "name": "python3"
  },
  "language_info": {
   "codemirror_mode": {
    "name": "ipython",
    "version": 3
   },
   "file_extension": ".py",
   "mimetype": "text/x-python",
   "name": "python",
   "nbconvert_exporter": "python",
   "pygments_lexer": "ipython3",
   "version": "3.7.0"
  },
  "orig_nbformat": 4,
  "vscode": {
   "interpreter": {
    "hash": "21deb353d8343be96f2d66d90b08ea04ab8d015feb5b61719f0abe95bb445805"
   }
  }
 },
 "nbformat": 4,
 "nbformat_minor": 2
}
